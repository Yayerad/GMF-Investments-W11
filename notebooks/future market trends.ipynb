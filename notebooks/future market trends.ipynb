{
 "cells": [
  {
   "cell_type": "code",
   "execution_count": 9,
   "metadata": {},
   "outputs": [],
   "source": [
    "import os\n",
    "import joblib\n",
    "import yfinance as yf\n",
    "import pandas as pd\n",
    "import numpy as np\n",
    "import matplotlib.pyplot as plt\n",
    "from statsmodels.tsa.statespace.sarimax import SARIMAX"
   ]
  },
  {
   "cell_type": "code",
   "execution_count": 10,
   "metadata": {},
   "outputs": [],
   "source": [
    "# Create directories for saving artifacts\n",
    "os.makedirs(\"models\", exist_ok=True)\n",
    "os.makedirs(\"forecasts\", exist_ok=True)"
   ]
  },
  {
   "cell_type": "code",
   "execution_count": 11,
   "metadata": {},
   "outputs": [
    {
     "name": "stderr",
     "output_type": "stream",
     "text": [
      "[*********************100%***********************]  1 of 1 completed\n",
      "[*********************100%***********************]  1 of 1 completed"
     ]
    },
    {
     "name": "stdout",
     "output_type": "stream",
     "text": [
      "Downloading data from Yahoo Finance...\n",
      "TSLA data shape: (2535, 1)\n"
     ]
    },
    {
     "name": "stderr",
     "output_type": "stream",
     "text": [
      "\n",
      "[*********************100%***********************]  1 of 1 completed"
     ]
    },
    {
     "name": "stdout",
     "output_type": "stream",
     "text": [
      "BND data shape: (2535, 1)\n",
      "SPY data shape: (2535, 1)\n"
     ]
    },
    {
     "name": "stderr",
     "output_type": "stream",
     "text": [
      "\n"
     ]
    }
   ],
   "source": [
    "# ======================\n",
    "# 1. Fetch Historical Data\n",
    "# ======================\n",
    "assets = ['TSLA', 'BND', 'SPY']\n",
    "print(\"Downloading data from Yahoo Finance...\")\n",
    "data = {}\n",
    "for asset in assets:\n",
    "    df = yf.download(asset, start=\"2015-01-01\", end=\"2025-01-31\")\n",
    "    data[asset] = df['Close']  # Extract closing prices\n",
    "    print(f\"{asset} data shape: {data[asset].shape}\")"
   ]
  },
  {
   "cell_type": "code",
   "execution_count": 12,
   "metadata": {},
   "outputs": [
    {
     "name": "stdout",
     "output_type": "stream",
     "text": [
      "\n",
      "Preprocessing data...\n",
      "TSLA missing values after processing: Ticker\n",
      "TSLA    0\n",
      "dtype: int64\n",
      "BND missing values after processing: Ticker\n",
      "BND    0\n",
      "dtype: int64\n",
      "SPY missing values after processing: Ticker\n",
      "SPY    0\n",
      "dtype: int64\n"
     ]
    }
   ],
   "source": [
    "# ======================\n",
    "# 2. Preprocess Data\n",
    "# ======================\n",
    "def preprocess_series(series):\n",
    "    \"\"\"Handle missing values and set frequency\"\"\"\n",
    "    series = series.asfreq('B')  # Business days\n",
    "    series = series.ffill()      # Forward-fill missing values\n",
    "    series.index.freq = 'B'      # Explicitly set frequency\n",
    "    return series\n",
    "\n",
    "print(\"\\nPreprocessing data...\")\n",
    "for asset in assets:\n",
    "    data[asset] = preprocess_series(data[asset])\n",
    "    print(f\"{asset} missing values after processing: {data[asset].isnull().sum()}\")"
   ]
  },
  {
   "cell_type": "code",
   "execution_count": 13,
   "metadata": {},
   "outputs": [
    {
     "name": "stdout",
     "output_type": "stream",
     "text": [
      "\n",
      "Training models...\n",
      "Training TSLA model...\n",
      "TSLA model AIC: 17032.24\n",
      "Training BND model...\n",
      "BND model AIC: -134.00\n",
      "Training SPY model...\n",
      "SPY model AIC: 13949.54\n"
     ]
    }
   ],
   "source": [
    "# 3. Train SARIMA Models\n",
    "# ======================\n",
    "def train_sarima(series, order=(4,1,0), seasonal_order=(1,1,1,5)):\n",
    "    \"\"\"Train and save SARIMA model\"\"\"\n",
    "    model = SARIMAX(series,\n",
    "                   order=order,\n",
    "                   seasonal_order=seasonal_order,\n",
    "                   enforce_stationarity=False)\n",
    "    model_fit = model.fit(disp=False)\n",
    "    return model_fit\n",
    "\n",
    "print(\"\\nTraining models...\")\n",
    "models = {}\n",
    "for asset in assets:\n",
    "    print(f\"Training {asset} model...\")\n",
    "    models[asset] = train_sarima(data[asset])\n",
    "    joblib.dump(models[asset], f\"models/{asset}_sarima.pkl\")\n",
    "    print(f\"{asset} model AIC: {models[asset].aic:.2f}\")"
   ]
  }
 ],
 "metadata": {
  "kernelspec": {
   "display_name": ".venv",
   "language": "python",
   "name": "python3"
  },
  "language_info": {
   "codemirror_mode": {
    "name": "ipython",
    "version": 3
   },
   "file_extension": ".py",
   "mimetype": "text/x-python",
   "name": "python",
   "nbconvert_exporter": "python",
   "pygments_lexer": "ipython3",
   "version": "3.11.0"
  }
 },
 "nbformat": 4,
 "nbformat_minor": 2
}
