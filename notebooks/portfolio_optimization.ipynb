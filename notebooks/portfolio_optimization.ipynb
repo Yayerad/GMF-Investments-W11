{
 "cells": [
  {
   "cell_type": "code",
   "execution_count": 1,
   "metadata": {},
   "outputs": [],
   "source": [
    "import pandas as pd\n",
    "import numpy as np\n",
    "import matplotlib.pyplot as plt\n",
    "from scipy.optimize import minimize\n",
    "import joblib\n",
    "import os\n",
    "import seaborn as sns"
   ]
  },
  {
   "cell_type": "code",
   "execution_count": 3,
   "metadata": {},
   "outputs": [],
   "source": [
    "# Configure plots\n",
    "import seaborn as sns\n",
    "sns.set_theme()\n",
    "%config InlineBackend.figure_format = 'retina'"
   ]
  },
  {
   "cell_type": "code",
   "execution_count": 4,
   "metadata": {},
   "outputs": [
    {
     "name": "stdout",
     "output_type": "stream",
     "text": [
      "Loading forecast data from Task 3...\n",
      "TSLA forecast shape: (126,)\n",
      "BND forecast shape: (126,)\n",
      "SPY forecast shape: (126,)\n"
     ]
    }
   ],
   "source": [
    "# 1. Load Forecast Data\n",
    "# ======================\n",
    "print(\"Loading forecast data from Task 3...\")\n",
    "forecasts = {}\n",
    "assets = ['TSLA', 'BND', 'SPY']\n",
    "\n",
    "for asset in assets:\n",
    "    forecast_path = f\"forecasts/{asset}_forecast.csv\"\n",
    "    forecasts[asset] = pd.read_csv(forecast_path, index_col='Date', parse_dates=True)['Forecast']\n",
    "    print(f\"{asset} forecast shape: {forecasts[asset].shape}\")\n",
    "\n",
    "# Combine forecasts into portfolio\n",
    "portfolio = pd.DataFrame(forecasts)\n",
    "portfolio = portfolio.asfreq('B')  # Align to business days"
   ]
  },
  {
   "cell_type": "code",
   "execution_count": 5,
   "metadata": {},
   "outputs": [
    {
     "name": "stdout",
     "output_type": "stream",
     "text": [
      "\n",
      "Annualized Expected Returns:\n",
      "TSLA    0.1233\n",
      "BND     0.0091\n",
      "SPY     0.0673\n",
      "dtype: float64\n",
      "\n",
      "Annualized Covariance Matrix:\n",
      "        TSLA  BND  SPY\n",
      "TSLA  0.0004 -0.0  0.0\n",
      "BND  -0.0000  0.0  0.0\n",
      "SPY   0.0000  0.0  0.0\n"
     ]
    }
   ],
   "source": [
    "# 2. Calculate Financial Metrics\n",
    "# ======================\n",
    "# Daily returns\n",
    "returns = portfolio.pct_change().dropna()\n",
    "\n",
    "# Annualized metrics\n",
    "expected_returns = returns.mean() * 252\n",
    "cov_matrix = returns.cov() * 252\n",
    "\n",
    "print(\"\\nAnnualized Expected Returns:\")\n",
    "print(expected_returns.round(4))\n",
    "\n",
    "print(\"\\nAnnualized Covariance Matrix:\")\n",
    "print(cov_matrix.round(4))"
   ]
  },
  {
   "cell_type": "code",
   "execution_count": 7,
   "metadata": {},
   "outputs": [
    {
     "name": "stdout",
     "output_type": "stream",
     "text": [
      "\n",
      "Optimization Results:\n",
      "TSLA: 0.00%\n",
      "BND: 0.00%\n",
      "SPY: 100.00%\n"
     ]
    }
   ],
   "source": [
    "# 3. Portfolio Optimization\n",
    "# ======================\n",
    "def sharpe_ratio(weights, er=expected_returns, cov=cov_matrix, risk_free=0.02):\n",
    "    \"\"\"Calculate negative Sharpe ratio for minimization\"\"\"\n",
    "    port_return = np.dot(weights, er)\n",
    "    port_vol = np.sqrt(np.dot(weights.T, np.dot(cov, weights)))\n",
    "    return -(port_return - risk_free) / port_vol\n",
    "\n",
    "# Constraints\n",
    "constraints = ({'type': 'eq', 'fun': lambda x: np.sum(x) - 1})\n",
    "bounds = tuple((0, 1) for _ in range(3))\n",
    "\n",
    "# Initial guess (equal weights)\n",
    "init_weights = np.array([1/3, 1/3, 1/3])\n",
    "\n",
    "# Optimize\n",
    "result = minimize(sharpe_ratio, init_weights,\n",
    "                  method='SLSQP', bounds=bounds,\n",
    "                  constraints=constraints)\n",
    "\n",
    "optimal_weights = result.x\n",
    "print(\"\\nOptimization Results:\")\n",
    "print(f\"TSLA: {optimal_weights[0]:.2%}\")\n",
    "print(f\"BND: {optimal_weights[1]:.2%}\")\n",
    "print(f\"SPY: {optimal_weights[2]:.2%}\")"
   ]
  },
  {
   "cell_type": "code",
   "execution_count": 8,
   "metadata": {},
   "outputs": [
    {
     "name": "stdout",
     "output_type": "stream",
     "text": [
      "\n",
      "Portfolio Metrics:\n",
      "Expected Annual Return: 6.73%\n",
      "Annual Volatility: 0.08%\n",
      "Sharpe Ratio: 58.44\n",
      "TSLA 95% Daily VaR: -0.13%\n"
     ]
    }
   ],
   "source": [
    "# 4. Portfolio Analysis\n",
    "# ======================\n",
    "# Calculate portfolio metrics\n",
    "port_return = np.dot(optimal_weights, expected_returns)\n",
    "port_vol = np.sqrt(np.dot(optimal_weights.T, np.dot(cov_matrix, optimal_weights)))\n",
    "sharpe = (port_return - 0.02) / port_vol\n",
    "\n",
    "# Value at Risk (Historical Simulation)\n",
    "returns_tsla = returns['TSLA']\n",
    "var_95 = np.percentile(returns_tsla, 5)\n",
    "\n",
    "print(\"\\nPortfolio Metrics:\")\n",
    "print(f\"Expected Annual Return: {port_return:.2%}\")\n",
    "print(f\"Annual Volatility: {port_vol:.2%}\")\n",
    "print(f\"Sharpe Ratio: {sharpe:.2f}\")\n",
    "print(f\"TSLA 95% Daily VaR: {var_95:.2%}\")\n"
   ]
  }
 ],
 "metadata": {
  "kernelspec": {
   "display_name": ".venv",
   "language": "python",
   "name": "python3"
  },
  "language_info": {
   "codemirror_mode": {
    "name": "ipython",
    "version": 3
   },
   "file_extension": ".py",
   "mimetype": "text/x-python",
   "name": "python",
   "nbconvert_exporter": "python",
   "pygments_lexer": "ipython3",
   "version": "3.11.0"
  }
 },
 "nbformat": 4,
 "nbformat_minor": 2
}
