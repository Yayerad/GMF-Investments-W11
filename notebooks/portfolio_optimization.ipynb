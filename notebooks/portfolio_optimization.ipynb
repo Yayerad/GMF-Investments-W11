{
 "cells": [
  {
   "cell_type": "code",
   "execution_count": 1,
   "metadata": {},
   "outputs": [],
   "source": [
    "import pandas as pd\n",
    "import numpy as np\n",
    "import matplotlib.pyplot as plt\n",
    "from scipy.optimize import minimize\n",
    "import joblib\n",
    "import os\n",
    "import seaborn as sns"
   ]
  },
  {
   "cell_type": "code",
   "execution_count": 3,
   "metadata": {},
   "outputs": [],
   "source": [
    "# Configure plots\n",
    "import seaborn as sns\n",
    "sns.set_theme()\n",
    "%config InlineBackend.figure_format = 'retina'"
   ]
  },
  {
   "cell_type": "code",
   "execution_count": 4,
   "metadata": {},
   "outputs": [
    {
     "name": "stdout",
     "output_type": "stream",
     "text": [
      "Loading forecast data from Task 3...\n",
      "TSLA forecast shape: (126,)\n",
      "BND forecast shape: (126,)\n",
      "SPY forecast shape: (126,)\n"
     ]
    }
   ],
   "source": [
    "# 1. Load Forecast Data\n",
    "# ======================\n",
    "print(\"Loading forecast data from Task 3...\")\n",
    "forecasts = {}\n",
    "assets = ['TSLA', 'BND', 'SPY']\n",
    "\n",
    "for asset in assets:\n",
    "    forecast_path = f\"forecasts/{asset}_forecast.csv\"\n",
    "    forecasts[asset] = pd.read_csv(forecast_path, index_col='Date', parse_dates=True)['Forecast']\n",
    "    print(f\"{asset} forecast shape: {forecasts[asset].shape}\")\n",
    "\n",
    "# Combine forecasts into portfolio\n",
    "portfolio = pd.DataFrame(forecasts)\n",
    "portfolio = portfolio.asfreq('B')  # Align to business days"
   ]
  },
  {
   "cell_type": "code",
   "execution_count": 5,
   "metadata": {},
   "outputs": [
    {
     "name": "stdout",
     "output_type": "stream",
     "text": [
      "\n",
      "Annualized Expected Returns:\n",
      "TSLA    0.1233\n",
      "BND     0.0091\n",
      "SPY     0.0673\n",
      "dtype: float64\n",
      "\n",
      "Annualized Covariance Matrix:\n",
      "        TSLA  BND  SPY\n",
      "TSLA  0.0004 -0.0  0.0\n",
      "BND  -0.0000  0.0  0.0\n",
      "SPY   0.0000  0.0  0.0\n"
     ]
    }
   ],
   "source": [
    "# 2. Calculate Financial Metrics\n",
    "# ======================\n",
    "# Daily returns\n",
    "returns = portfolio.pct_change().dropna()\n",
    "\n",
    "# Annualized metrics\n",
    "expected_returns = returns.mean() * 252\n",
    "cov_matrix = returns.cov() * 252\n",
    "\n",
    "print(\"\\nAnnualized Expected Returns:\")\n",
    "print(expected_returns.round(4))\n",
    "\n",
    "print(\"\\nAnnualized Covariance Matrix:\")\n",
    "print(cov_matrix.round(4))"
   ]
  }
 ],
 "metadata": {
  "kernelspec": {
   "display_name": ".venv",
   "language": "python",
   "name": "python3"
  },
  "language_info": {
   "codemirror_mode": {
    "name": "ipython",
    "version": 3
   },
   "file_extension": ".py",
   "mimetype": "text/x-python",
   "name": "python",
   "nbconvert_exporter": "python",
   "pygments_lexer": "ipython3",
   "version": "3.11.0"
  }
 },
 "nbformat": 4,
 "nbformat_minor": 2
}
